{
 "cells": [
  {
   "cell_type": "markdown",
   "metadata": {},
   "source": [
    "# Supervised Machine-Learning : Support Vector Machine classifier for credit cards default\n",
    "\n",
    "We are using data from the UCI Machine Learning Repisotory, specifically the [default of credit card clients dataset](https://archive.ics.uci.edu/ml/datasets/default+of+credit+card+clients), in order to predict if someone will default on their credit card payments based on numerous metrics such as sex, age, marital status and many others.\n",
    "\n",
    "**Raw data are stored in the `data` -> `raw` directory of the Git repository.**\n",
    "\n",
    "**All scripts used to transform raw data into features for modeling and scripts for the model are located in the `feature` and `model` directory, but will be displayed in the notebook for all to see.**\n",
    "\n",
    "**Variable documentation can be found in the `reference` directory.**"
   ]
  },
  {
   "cell_type": "code",
   "execution_count": 1,
   "metadata": {},
   "outputs": [],
   "source": [
    "import pandas as pd \n",
    "import numpy as np\n",
    "import os\n",
    "import pickle\n",
    "import matplotlib.pyplot as plt\n",
    "import matplotlib.colors as colors\n",
    "from sklearn.utils import resample\n",
    "from sklearn.model_selection import train_test_split\n",
    "from sklearn import preprocessing \n",
    "from sklearn.svm import SVC \n",
    "from sklearn.model_selection import GridSearchCV \n",
    "from sklearn.metrics import confusion_matrix \n",
    "from sklearn.metrics import ConfusionMatrixDisplay\n",
    "from sklearn.model_selection import train_test_split\n",
    "from sklearn.preprocessing import StandardScaler\n",
    "from sklearn.decomposition import PCA"
   ]
  },
  {
   "cell_type": "code",
   "execution_count": 2,
   "metadata": {},
   "outputs": [],
   "source": [
    "file_path= '/Users/eudes/Documents/Portfolio/SVM-default-credit-cards/data/raw/default_of_credit_card_clients.tsv'"
   ]
  },
  {
   "cell_type": "code",
   "execution_count": 3,
   "metadata": {},
   "outputs": [],
   "source": [
    "def load_data(file_path):\n",
    "    \"\"\"\n",
    "    Load the credit card clients data from a specified file.\n",
    "\n",
    "    Parameters:\n",
    "    file_path (str): The path to the data file.\n",
    "\n",
    "    Returns:\n",
    "    pd.DataFrame: The loaded DataFrame.\n",
    "    \"\"\"\n",
    "    df = pd.read_csv(file_path, header=1, sep='\\t')\n",
    "    df.rename({'default payment next month': 'DEFAULT'}, axis='columns', inplace=True)\n",
    "    return df"
   ]
  },
  {
   "cell_type": "code",
   "execution_count": 4,
   "metadata": {},
   "outputs": [
    {
     "data": {
      "text/html": [
       "<div>\n",
       "<style scoped>\n",
       "    .dataframe tbody tr th:only-of-type {\n",
       "        vertical-align: middle;\n",
       "    }\n",
       "\n",
       "    .dataframe tbody tr th {\n",
       "        vertical-align: top;\n",
       "    }\n",
       "\n",
       "    .dataframe thead th {\n",
       "        text-align: right;\n",
       "    }\n",
       "</style>\n",
       "<table border=\"1\" class=\"dataframe\">\n",
       "  <thead>\n",
       "    <tr style=\"text-align: right;\">\n",
       "      <th></th>\n",
       "      <th>ID</th>\n",
       "      <th>LIMIT_BAL</th>\n",
       "      <th>SEX</th>\n",
       "      <th>EDUCATION</th>\n",
       "      <th>MARRIAGE</th>\n",
       "      <th>AGE</th>\n",
       "      <th>PAY_0</th>\n",
       "      <th>PAY_2</th>\n",
       "      <th>PAY_3</th>\n",
       "      <th>PAY_4</th>\n",
       "      <th>...</th>\n",
       "      <th>BILL_AMT4</th>\n",
       "      <th>BILL_AMT5</th>\n",
       "      <th>BILL_AMT6</th>\n",
       "      <th>PAY_AMT1</th>\n",
       "      <th>PAY_AMT2</th>\n",
       "      <th>PAY_AMT3</th>\n",
       "      <th>PAY_AMT4</th>\n",
       "      <th>PAY_AMT5</th>\n",
       "      <th>PAY_AMT6</th>\n",
       "      <th>DEFAULT</th>\n",
       "    </tr>\n",
       "  </thead>\n",
       "  <tbody>\n",
       "    <tr>\n",
       "      <th>0</th>\n",
       "      <td>1</td>\n",
       "      <td>20000</td>\n",
       "      <td>2</td>\n",
       "      <td>2</td>\n",
       "      <td>1</td>\n",
       "      <td>24</td>\n",
       "      <td>2</td>\n",
       "      <td>2</td>\n",
       "      <td>-1</td>\n",
       "      <td>-1</td>\n",
       "      <td>...</td>\n",
       "      <td>0</td>\n",
       "      <td>0</td>\n",
       "      <td>0</td>\n",
       "      <td>0</td>\n",
       "      <td>689</td>\n",
       "      <td>0</td>\n",
       "      <td>0</td>\n",
       "      <td>0</td>\n",
       "      <td>0</td>\n",
       "      <td>1</td>\n",
       "    </tr>\n",
       "    <tr>\n",
       "      <th>1</th>\n",
       "      <td>2</td>\n",
       "      <td>120000</td>\n",
       "      <td>2</td>\n",
       "      <td>2</td>\n",
       "      <td>2</td>\n",
       "      <td>26</td>\n",
       "      <td>-1</td>\n",
       "      <td>2</td>\n",
       "      <td>0</td>\n",
       "      <td>0</td>\n",
       "      <td>...</td>\n",
       "      <td>3272</td>\n",
       "      <td>3455</td>\n",
       "      <td>3261</td>\n",
       "      <td>0</td>\n",
       "      <td>1000</td>\n",
       "      <td>1000</td>\n",
       "      <td>1000</td>\n",
       "      <td>0</td>\n",
       "      <td>2000</td>\n",
       "      <td>1</td>\n",
       "    </tr>\n",
       "    <tr>\n",
       "      <th>2</th>\n",
       "      <td>3</td>\n",
       "      <td>90000</td>\n",
       "      <td>2</td>\n",
       "      <td>2</td>\n",
       "      <td>2</td>\n",
       "      <td>34</td>\n",
       "      <td>0</td>\n",
       "      <td>0</td>\n",
       "      <td>0</td>\n",
       "      <td>0</td>\n",
       "      <td>...</td>\n",
       "      <td>14331</td>\n",
       "      <td>14948</td>\n",
       "      <td>15549</td>\n",
       "      <td>1518</td>\n",
       "      <td>1500</td>\n",
       "      <td>1000</td>\n",
       "      <td>1000</td>\n",
       "      <td>1000</td>\n",
       "      <td>5000</td>\n",
       "      <td>0</td>\n",
       "    </tr>\n",
       "    <tr>\n",
       "      <th>3</th>\n",
       "      <td>4</td>\n",
       "      <td>50000</td>\n",
       "      <td>2</td>\n",
       "      <td>2</td>\n",
       "      <td>1</td>\n",
       "      <td>37</td>\n",
       "      <td>0</td>\n",
       "      <td>0</td>\n",
       "      <td>0</td>\n",
       "      <td>0</td>\n",
       "      <td>...</td>\n",
       "      <td>28314</td>\n",
       "      <td>28959</td>\n",
       "      <td>29547</td>\n",
       "      <td>2000</td>\n",
       "      <td>2019</td>\n",
       "      <td>1200</td>\n",
       "      <td>1100</td>\n",
       "      <td>1069</td>\n",
       "      <td>1000</td>\n",
       "      <td>0</td>\n",
       "    </tr>\n",
       "    <tr>\n",
       "      <th>4</th>\n",
       "      <td>5</td>\n",
       "      <td>50000</td>\n",
       "      <td>1</td>\n",
       "      <td>2</td>\n",
       "      <td>1</td>\n",
       "      <td>57</td>\n",
       "      <td>-1</td>\n",
       "      <td>0</td>\n",
       "      <td>-1</td>\n",
       "      <td>0</td>\n",
       "      <td>...</td>\n",
       "      <td>20940</td>\n",
       "      <td>19146</td>\n",
       "      <td>19131</td>\n",
       "      <td>2000</td>\n",
       "      <td>36681</td>\n",
       "      <td>10000</td>\n",
       "      <td>9000</td>\n",
       "      <td>689</td>\n",
       "      <td>679</td>\n",
       "      <td>0</td>\n",
       "    </tr>\n",
       "    <tr>\n",
       "      <th>5</th>\n",
       "      <td>6</td>\n",
       "      <td>50000</td>\n",
       "      <td>1</td>\n",
       "      <td>1</td>\n",
       "      <td>2</td>\n",
       "      <td>37</td>\n",
       "      <td>0</td>\n",
       "      <td>0</td>\n",
       "      <td>0</td>\n",
       "      <td>0</td>\n",
       "      <td>...</td>\n",
       "      <td>19394</td>\n",
       "      <td>19619</td>\n",
       "      <td>20024</td>\n",
       "      <td>2500</td>\n",
       "      <td>1815</td>\n",
       "      <td>657</td>\n",
       "      <td>1000</td>\n",
       "      <td>1000</td>\n",
       "      <td>800</td>\n",
       "      <td>0</td>\n",
       "    </tr>\n",
       "    <tr>\n",
       "      <th>6</th>\n",
       "      <td>7</td>\n",
       "      <td>500000</td>\n",
       "      <td>1</td>\n",
       "      <td>1</td>\n",
       "      <td>2</td>\n",
       "      <td>29</td>\n",
       "      <td>0</td>\n",
       "      <td>0</td>\n",
       "      <td>0</td>\n",
       "      <td>0</td>\n",
       "      <td>...</td>\n",
       "      <td>542653</td>\n",
       "      <td>483003</td>\n",
       "      <td>473944</td>\n",
       "      <td>55000</td>\n",
       "      <td>40000</td>\n",
       "      <td>38000</td>\n",
       "      <td>20239</td>\n",
       "      <td>13750</td>\n",
       "      <td>13770</td>\n",
       "      <td>0</td>\n",
       "    </tr>\n",
       "    <tr>\n",
       "      <th>7</th>\n",
       "      <td>8</td>\n",
       "      <td>100000</td>\n",
       "      <td>2</td>\n",
       "      <td>2</td>\n",
       "      <td>2</td>\n",
       "      <td>23</td>\n",
       "      <td>0</td>\n",
       "      <td>-1</td>\n",
       "      <td>-1</td>\n",
       "      <td>0</td>\n",
       "      <td>...</td>\n",
       "      <td>221</td>\n",
       "      <td>-159</td>\n",
       "      <td>567</td>\n",
       "      <td>380</td>\n",
       "      <td>601</td>\n",
       "      <td>0</td>\n",
       "      <td>581</td>\n",
       "      <td>1687</td>\n",
       "      <td>1542</td>\n",
       "      <td>0</td>\n",
       "    </tr>\n",
       "    <tr>\n",
       "      <th>8</th>\n",
       "      <td>9</td>\n",
       "      <td>140000</td>\n",
       "      <td>2</td>\n",
       "      <td>3</td>\n",
       "      <td>1</td>\n",
       "      <td>28</td>\n",
       "      <td>0</td>\n",
       "      <td>0</td>\n",
       "      <td>2</td>\n",
       "      <td>0</td>\n",
       "      <td>...</td>\n",
       "      <td>12211</td>\n",
       "      <td>11793</td>\n",
       "      <td>3719</td>\n",
       "      <td>3329</td>\n",
       "      <td>0</td>\n",
       "      <td>432</td>\n",
       "      <td>1000</td>\n",
       "      <td>1000</td>\n",
       "      <td>1000</td>\n",
       "      <td>0</td>\n",
       "    </tr>\n",
       "    <tr>\n",
       "      <th>9</th>\n",
       "      <td>10</td>\n",
       "      <td>20000</td>\n",
       "      <td>1</td>\n",
       "      <td>3</td>\n",
       "      <td>2</td>\n",
       "      <td>35</td>\n",
       "      <td>-2</td>\n",
       "      <td>-2</td>\n",
       "      <td>-2</td>\n",
       "      <td>-2</td>\n",
       "      <td>...</td>\n",
       "      <td>0</td>\n",
       "      <td>13007</td>\n",
       "      <td>13912</td>\n",
       "      <td>0</td>\n",
       "      <td>0</td>\n",
       "      <td>0</td>\n",
       "      <td>13007</td>\n",
       "      <td>1122</td>\n",
       "      <td>0</td>\n",
       "      <td>0</td>\n",
       "    </tr>\n",
       "  </tbody>\n",
       "</table>\n",
       "<p>10 rows × 25 columns</p>\n",
       "</div>"
      ],
      "text/plain": [
       "   ID  LIMIT_BAL  SEX  EDUCATION  MARRIAGE  AGE  PAY_0  PAY_2  PAY_3  PAY_4  \\\n",
       "0   1      20000    2          2         1   24      2      2     -1     -1   \n",
       "1   2     120000    2          2         2   26     -1      2      0      0   \n",
       "2   3      90000    2          2         2   34      0      0      0      0   \n",
       "3   4      50000    2          2         1   37      0      0      0      0   \n",
       "4   5      50000    1          2         1   57     -1      0     -1      0   \n",
       "5   6      50000    1          1         2   37      0      0      0      0   \n",
       "6   7     500000    1          1         2   29      0      0      0      0   \n",
       "7   8     100000    2          2         2   23      0     -1     -1      0   \n",
       "8   9     140000    2          3         1   28      0      0      2      0   \n",
       "9  10      20000    1          3         2   35     -2     -2     -2     -2   \n",
       "\n",
       "   ...  BILL_AMT4  BILL_AMT5  BILL_AMT6  PAY_AMT1  PAY_AMT2  PAY_AMT3  \\\n",
       "0  ...          0          0          0         0       689         0   \n",
       "1  ...       3272       3455       3261         0      1000      1000   \n",
       "2  ...      14331      14948      15549      1518      1500      1000   \n",
       "3  ...      28314      28959      29547      2000      2019      1200   \n",
       "4  ...      20940      19146      19131      2000     36681     10000   \n",
       "5  ...      19394      19619      20024      2500      1815       657   \n",
       "6  ...     542653     483003     473944     55000     40000     38000   \n",
       "7  ...        221       -159        567       380       601         0   \n",
       "8  ...      12211      11793       3719      3329         0       432   \n",
       "9  ...          0      13007      13912         0         0         0   \n",
       "\n",
       "   PAY_AMT4  PAY_AMT5  PAY_AMT6  DEFAULT  \n",
       "0         0         0         0        1  \n",
       "1      1000         0      2000        1  \n",
       "2      1000      1000      5000        0  \n",
       "3      1100      1069      1000        0  \n",
       "4      9000       689       679        0  \n",
       "5      1000      1000       800        0  \n",
       "6     20239     13750     13770        0  \n",
       "7       581      1687      1542        0  \n",
       "8      1000      1000      1000        0  \n",
       "9     13007      1122         0        0  \n",
       "\n",
       "[10 rows x 25 columns]"
      ]
     },
     "execution_count": 4,
     "metadata": {},
     "output_type": "execute_result"
    }
   ],
   "source": [
    "df = load_data(file_path)\n",
    "df.head(10)"
   ]
  },
  {
   "cell_type": "code",
   "execution_count": 5,
   "metadata": {},
   "outputs": [],
   "source": [
    "# We can see a lot of variables in our dataset \n",
    "\n",
    "column_documentation_file = '/Users/eudes/Documents/Portfolio/SVM-default-credit-cards/references/SVM_default_credit_cards_dict.txt'\n",
    "\n",
    "def parse_column_documentation(file_path):\n",
    "    \"\"\"\n",
    "    Parse column documentation from a text file and store it in a dictionary.\n",
    "\n",
    "    Parameters:\n",
    "    - file_path (str): The file path to the text file containing column documentation.\n",
    "\n",
    "    Returns:\n",
    "    - dict: A dictionary where keys are column names and values are their respective descriptions.\n",
    "    \"\"\"\n",
    "    column_docs = {}\n",
    "    with open(file_path, 'r') as doc_file:\n",
    "        for line in doc_file:\n",
    "            parts = line.strip().split(':')\n",
    "            if len(parts) == 2:\n",
    "                column_name = parts[0].strip()\n",
    "                column_description = parts[1].strip()\n",
    "                column_docs[column_name] = column_description\n",
    "    return column_docs\n",
    "\n",
    "def get_column_description(df, column_name):\n",
    "    \"\"\"\n",
    "    Get the description of a specific column from the parsed column documentation.\n",
    "\n",
    "    Parameters:\n",
    "    - df (pd.DataFrame): The DataFrame containing the columns.\n",
    "    - column_name (str): The name of the column for which you want to retrieve the description.\n",
    "\n",
    "    Returns:\n",
    "    - str: The description of the specified column. If no description is available, it returns \"No documentation available.\"\n",
    "    \"\"\"\n",
    "    if column_name in column_documentation:\n",
    "        return column_documentation[column_name]\n",
    "    else:\n",
    "        return \"No documentation available.\""
   ]
  },
  {
   "cell_type": "code",
   "execution_count": 6,
   "metadata": {},
   "outputs": [
    {
     "name": "stdout",
     "output_type": "stream",
     "text": [
      "ID: The ID number assigned to each customer\n",
      "\n",
      "LIMIT_BAL: Amount of the given credit\n",
      "\n",
      "SEX: Gender (1 = male; 2 = female)\n",
      "\n",
      "EDUCATION: Level of education (1 = graduate school; 2 = university; 3 = high school; 4 = others)\n",
      "\n",
      "MARRIAGE: Marital status (1 = married; 2 = single; 3 = others)\n",
      "\n",
      "AGE: Age (years)\n",
      "\n",
      "DEFAULT: (1= Yes; 0=No)\n",
      "\n"
     ]
    }
   ],
   "source": [
    "column_documentation = parse_column_documentation(column_documentation_file)\n",
    "for column_name, description in column_documentation.items():\n",
    "    print(f\"{column_name}: {description}\\n\")"
   ]
  },
  {
   "cell_type": "markdown",
   "metadata": {},
   "source": [
    "## Data preprocessing\n",
    "\n",
    "We can see there is a lot of variables in our dataset, some more useful than others, we can drop ID because it's doesn't give us information for our task."
   ]
  },
  {
   "cell_type": "code",
   "execution_count": 7,
   "metadata": {},
   "outputs": [],
   "source": [
    "def delete_columns(df, columns_to_delete):\n",
    "    \"\"\"\n",
    "    Delete specified columns from a DataFrame.\n",
    "\n",
    "    Parameters:\n",
    "    df (DataFrame): The input DataFrame from which columns will be deleted.\n",
    "    columns_to_delete (list of str): A list of column names to be deleted from the DataFrame.\n",
    "\n",
    "    Returns:\n",
    "    DataFrame: A new DataFrame with the specified columns removed.\n",
    "    \"\"\"\n",
    "    df = df.drop(columns=columns_to_delete, axis=1)\n",
    "    return df"
   ]
  },
  {
   "cell_type": "code",
   "execution_count": 8,
   "metadata": {},
   "outputs": [],
   "source": [
    "df = delete_columns(df, 'ID')"
   ]
  },
  {
   "cell_type": "markdown",
   "metadata": {},
   "source": [
    "First and foremost, we have to check if we have missing values and deal with them"
   ]
  },
  {
   "cell_type": "code",
   "execution_count": 9,
   "metadata": {},
   "outputs": [
    {
     "data": {
      "text/plain": [
       "LIMIT_BAL    int64\n",
       "SEX          int64\n",
       "EDUCATION    int64\n",
       "MARRIAGE     int64\n",
       "AGE          int64\n",
       "PAY_0        int64\n",
       "PAY_2        int64\n",
       "PAY_3        int64\n",
       "PAY_4        int64\n",
       "PAY_5        int64\n",
       "PAY_6        int64\n",
       "BILL_AMT1    int64\n",
       "BILL_AMT2    int64\n",
       "BILL_AMT3    int64\n",
       "BILL_AMT4    int64\n",
       "BILL_AMT5    int64\n",
       "BILL_AMT6    int64\n",
       "PAY_AMT1     int64\n",
       "PAY_AMT2     int64\n",
       "PAY_AMT3     int64\n",
       "PAY_AMT4     int64\n",
       "PAY_AMT5     int64\n",
       "PAY_AMT6     int64\n",
       "DEFAULT      int64\n",
       "dtype: object"
      ]
     },
     "execution_count": 9,
     "metadata": {},
     "output_type": "execute_result"
    }
   ],
   "source": [
    "df.dtypes"
   ]
  },
  {
   "cell_type": "markdown",
   "metadata": {},
   "source": [
    "All of our varibales are numeric characters, which means we don't have a mix of letters and numbers. In other words, there are no **NA** values, or other character based place holders for missing data, in **df**.\n",
    "\n",
    "We also have categorical variables, we should check for **NA** too"
   ]
  },
  {
   "cell_type": "code",
   "execution_count": 10,
   "metadata": {},
   "outputs": [
    {
     "data": {
      "text/plain": [
       "(array([2, 1]), array([2, 1, 3, 5, 4, 6, 0]), array([1, 2, 3, 0]))"
      ]
     },
     "execution_count": 10,
     "metadata": {},
     "output_type": "execute_result"
    }
   ],
   "source": [
    "df['SEX'].unique(), df['EDUCATION'].unique() , df['MARRIAGE'].unique()"
   ]
  },
  {
   "cell_type": "markdown",
   "metadata": {},
   "source": [
    "Education like Marriage contains values which are not defined in the database description, we can guess 0 represent missings values, so we have to deal with them"
   ]
  },
  {
   "cell_type": "markdown",
   "metadata": {},
   "source": [
    "# Dealing With Missing Data\n",
    "\n",
    "Since scikit-learn's support vector machines do not support datasets with missing values, we need to figure out what to do with  the 0s in the dataset. We can either delete these customers from the training dataset, or impute values for the missing data. First let's see how many rows contain missing values."
   ]
  },
  {
   "cell_type": "code",
   "execution_count": 11,
   "metadata": {},
   "outputs": [
    {
     "data": {
      "text/plain": [
       "(68, 30000)"
      ]
     },
     "execution_count": 11,
     "metadata": {},
     "output_type": "execute_result"
    }
   ],
   "source": [
    "len(df.loc[(df['EDUCATION'] == 0) | (df['MARRIAGE'] == 0)]), len(df)"
   ]
  },
  {
   "cell_type": "markdown",
   "metadata": {},
   "source": [
    "68 values out of 3000 could be missings values, since it's ~1% of our global values, we still have much than necessary to perform our Support Vector Machines, so we don't need to replace the missing values we can just erase the row with 0 in the database"
   ]
  },
  {
   "cell_type": "code",
   "execution_count": 12,
   "metadata": {},
   "outputs": [],
   "source": [
    "def filter_dataframe(df, columns_to_filter):\n",
    "    \"\"\"\n",
    "    Filter a DataFrame based on specified columns.\n",
    "\n",
    "    This function filters the input DataFrame to exclude rows where all the specified columns\n",
    "    have values equal to 0.\n",
    "\n",
    "    Parameters:\n",
    "    - df (pandas.DataFrame): The input DataFrame to be filtered.\n",
    "    - columns_to_filter (list): A list of column names to be used for filtering.\n",
    "\n",
    "    Returns:\n",
    "    - pandas.DataFrame: The filtered DataFrame.\n",
    "    \"\"\"\n",
    "    # Create a condition that checks if all specified columns are not equal to 0\n",
    "    condition = df[columns_to_filter].ne(0).all(axis=1)\n",
    "    \n",
    "    # Use the condition to filter the DataFrame\n",
    "    filtered_df = df.loc[condition]\n",
    "    \n",
    "    return filtered_df"
   ]
  },
  {
   "cell_type": "code",
   "execution_count": 13,
   "metadata": {},
   "outputs": [],
   "source": [
    "columns_to_filter = ['EDUCATION', 'MARRIAGE']\n",
    "df = filter_dataframe(df, columns_to_filter)"
   ]
  },
  {
   "cell_type": "code",
   "execution_count": 14,
   "metadata": {},
   "outputs": [
    {
     "data": {
      "text/plain": [
       "(array([2, 1, 3, 5, 4, 6]), array([1, 2, 3]))"
      ]
     },
     "execution_count": 14,
     "metadata": {},
     "output_type": "execute_result"
    }
   ],
   "source": [
    "df['EDUCATION'].unique() , df['MARRIAGE'].unique()"
   ]
  },
  {
   "cell_type": "code",
   "execution_count": 15,
   "metadata": {},
   "outputs": [
    {
     "data": {
      "text/plain": [
       "29932"
      ]
     },
     "execution_count": 15,
     "metadata": {},
     "output_type": "execute_result"
    }
   ],
   "source": [
    "len(df)"
   ]
  },
  {
   "cell_type": "code",
   "execution_count": 16,
   "metadata": {},
   "outputs": [
    {
     "data": {
      "text/plain": [
       "(array([2, 1, 3, 5, 4, 6]), array([1, 2, 3]))"
      ]
     },
     "execution_count": 16,
     "metadata": {},
     "output_type": "execute_result"
    }
   ],
   "source": [
    "df['EDUCATION'].unique() , df['MARRIAGE'].unique()"
   ]
  },
  {
   "cell_type": "markdown",
   "metadata": {},
   "source": [
    "# Downsample the data\n",
    "\n",
    "**Support Vector Machines** are great with small datasets, but not awesome with large ones, and this dataset is big enough to take a long time to optimize with Cross Validation. So we will downsample both categories, customers who did and did not default to 1,000 each.\n",
    "\n",
    "To make sure we get **1,000** of each category, we start by splitting the data into two dataframes /\n",
    "\n",
    "- one for people that did not default \n",
    "- one for people that did default"
   ]
  },
  {
   "cell_type": "code",
   "execution_count": 17,
   "metadata": {},
   "outputs": [],
   "source": [
    "def downsample_dataframe(df, column_to_downsample, n_samples=1000, random_state=42):\n",
    "    \"\"\"\n",
    "    Downsample a DataFrame based on a specified column.\n",
    "\n",
    "    This function performs downsampling on the input DataFrame by randomly selecting a\n",
    "    specified number of samples from each category in the specified column.\n",
    "\n",
    "    Parameters:\n",
    "    - df (pandas.DataFrame): The input DataFrame to be downsampled.\n",
    "    - column_to_downsample (str): The name of the column to be used for downsampling.\n",
    "    - n_samples (int): The number of samples to downsample to (default is 1000).\n",
    "    - random_state (int): The random seed for reproducibility (default is 42).\n",
    "\n",
    "    Returns:\n",
    "    - pandas.DataFrame: The downsampled DataFrame.\n",
    "    \"\"\"\n",
    "    # Split the DataFrame based on the specified column\n",
    "    categories = df[column_to_downsample].unique()\n",
    "    downsampled_dfs = []\n",
    "\n",
    "    for category in categories:\n",
    "        subset_df = df[df[column_to_downsample] == category]\n",
    "        downsampled_subset = resample(subset_df, replace=False, n_samples=n_samples, random_state=random_state)\n",
    "        downsampled_dfs.append(downsampled_subset)\n",
    "\n",
    "    # Combine the downsampled DataFrames\n",
    "    downsampled_df = pd.concat(downsampled_dfs)\n",
    "\n",
    "    return downsampled_df"
   ]
  },
  {
   "cell_type": "code",
   "execution_count": 18,
   "metadata": {},
   "outputs": [],
   "source": [
    "df_downsample = downsample_dataframe(df, 'DEFAULT', n_samples=1000, random_state=42)"
   ]
  },
  {
   "cell_type": "code",
   "execution_count": 19,
   "metadata": {},
   "outputs": [
    {
     "data": {
      "text/plain": [
       "2000"
      ]
     },
     "execution_count": 19,
     "metadata": {},
     "output_type": "execute_result"
    }
   ],
   "source": [
    "len(df_downsample)"
   ]
  },
  {
   "cell_type": "markdown",
   "metadata": {},
   "source": [
    "**It's a good practice to put the transformed data into the `data/intermediate` directory**"
   ]
  },
  {
   "cell_type": "code",
   "execution_count": 20,
   "metadata": {},
   "outputs": [],
   "source": [
    "df_downsample.to_csv(r'/Users/eudes/Documents/Portfolio/SVM-default-credit-cards/data/interim/processed_data.csv')"
   ]
  },
  {
   "cell_type": "markdown",
   "metadata": {},
   "source": [
    "# Split the Data into Dependent and Independent Variables\n",
    "\n",
    "Now that we have taken care of the missing data, we are ready to start formatting the data for making a **Support Vector Machine**.\n",
    "\n",
    "1. The columns of data that we will use to make classifications\n",
    "2. The column of data that we want to predict (whether or not someone defaulted on a payment)."
   ]
  },
  {
   "cell_type": "markdown",
   "metadata": {},
   "source": [
    "# One-Hot Encoding\n",
    "\n",
    "Now that we have split the data frame into two pieces, `X`, which contains the data we will use to make, or predict, classifications, and `y`, which contains the known classifications in our training dataset, we need to take a closer look at the variables in `X`. The list bellow tells us what each variable represents and the type of data (**Int** or **Categorical**) it should contain:\n",
    "\n",
    "- **LIMIT_BAL**, The amount of available credit **Integer**\n",
    "- **SEX**, **Category**\n",
    "  - 1 = male\n",
    "  - 2 = female\n",
    "- **EDUCATION**, **Category**\n",
    "  - 1 = graduate school\n",
    "  - 2 = university\n",
    "  - 3 = high school\n",
    "  - 4 = others\n",
    "- **MARRIAGE**, **Category**\n",
    "  - 1 = Married\n",
    "  - 2 = Single\n",
    "  - 3 = Other\n",
    "- **AGE**, **Integer**\n",
    "- **PAY_**, When the last 6 bills were payed **Category**\n",
    "  - -1 = Paid on time\n",
    "  - 1 = Payment delayed by 1 month\n",
    "  - 2 = Payment delayed by 2 months\n",
    "  - ...\n",
    "  - 8 = Payment delayed by 8 months\n",
    "  - 9 = Payment delayed by 9 or more months\n",
    "- **BILL_AMT**, What the last 6 bills were **Integer**\n",
    "- **PAY_AMT**, How much the last payments were **Integer**\n",
    "- **DEFAULT**, Whether or not a person defaulted on the next payment **CATEGORY**\n",
    "  - 0 = Did not default\n",
    "  - 1 = Defaulted\n",
    "  \n",
    "  \n",
    "It looks like **SEX**, **EDUCATION**, **MARRIAGE** and **PAY_** are supposed to be categorical and need to be modified. This is because, while **Support Vector Machines** from scikit-learn natively support continuous data, like **LIMIT_BAL** and **AGE**, they do not natively support categorical data, like **MARRIAGE**, which contains three different categories. In order to use categorical data, we have to converts a column of categorical data into multiple columns of binary values via One-Hot Encoding."
   ]
  },
  {
   "cell_type": "code",
   "execution_count": 21,
   "metadata": {},
   "outputs": [],
   "source": [
    "def preprocess_data(df, target_column, categorical_columns=[]):\n",
    "    \"\"\"\n",
    "    Prepare features and target variables.\n",
    "\n",
    "    Parameters:\n",
    "    - df: The DataFrame containing the data.\n",
    "    - target_column (str): The name of the target variable column.\n",
    "    - categorical_columns (list): List of column names to be one-hot encoded (if applicable).\n",
    "\n",
    "    Returns:\n",
    "    - DataFrame: Features DataFrame with one-hot encoding applied to\n",
    "      specified categorical columns.\n",
    "    - Series: Target variable Series.\n",
    "    \"\"\"\n",
    "    # Create the target variable Series\n",
    "    y = df[target_column].copy()\n",
    "\n",
    "    # Create features DataFrame by dropping the target column\n",
    "    X = df.drop(target_column, axis=1).copy()\n",
    "\n",
    "    # Perform one-hot encoding on categorical columns\n",
    "    X_encoded = pd.get_dummies(X, columns=categorical_columns)\n",
    "    \n",
    "    return X_encoded, y"
   ]
  },
  {
   "cell_type": "code",
   "execution_count": 22,
   "metadata": {},
   "outputs": [],
   "source": [
    "categorical_columns=['SEX',\n",
    "         'EDUCATION',\n",
    "         'MARRIAGE', \n",
    "         'PAY_0',\n",
    "         'PAY_2',\n",
    "         'PAY_3',\n",
    "         'PAY_4',\n",
    "         'PAY_5',\n",
    "         'PAY_6']"
   ]
  },
  {
   "cell_type": "code",
   "execution_count": 23,
   "metadata": {},
   "outputs": [],
   "source": [
    "X_encoded, y = preprocess_data(df_downsample, 'DEFAULT', categorical_columns = categorical_columns)"
   ]
  },
  {
   "cell_type": "markdown",
   "metadata": {},
   "source": [
    "# Format the Data Part 3: Centering and Scaling\n",
    "\n",
    "The **Radial Basis Function (RBF)** that we are using with our Support Vector Machine assumes that the data are centered and scaled. Each column should have a $\\mu=0$ and a $\\sigma=1$. We split the data into training and testing datasets and then scale them separately to avoid Data Leakage."
   ]
  },
  {
   "cell_type": "code",
   "execution_count": 24,
   "metadata": {},
   "outputs": [],
   "source": [
    "def split_and_scale_data(X, y, random_state=42):\n",
    "    \"\"\"\n",
    "    Split and scale the data into training and testing sets.\n",
    "\n",
    "    Parameters:\n",
    "    - X: Features DataFrame.\n",
    "    - y: Target variable Series.\n",
    "    - random_state (int): Random seed for reproducibility (default is 42).\n",
    "\n",
    "    Returns:\n",
    "    - DataFrame: X_train_scaled - Scaled training features.\n",
    "    - DataFrame: X_test_scaled - Scaled testing features.\n",
    "    - Series: y_train - Training target variable.\n",
    "    - Series: y_test - Testing target variable.\n",
    "    \"\"\"\n",
    "    # Split the data into training and testing sets\n",
    "    X_train, X_test, y_train, y_test = train_test_split(X, y, random_state=random_state)\n",
    "\n",
    "    # Fit a StandardScaler on the training data and transform both training and testing data\n",
    "    scaler = preprocessing.StandardScaler().fit(X_train)\n",
    "    X_train_scaled = scaler.transform(X_train)\n",
    "    X_test_scaled = scaler.transform(X_test)\n",
    "\n",
    "    return X_train_scaled, X_test_scaled, y_train, y_test"
   ]
  },
  {
   "cell_type": "code",
   "execution_count": 25,
   "metadata": {},
   "outputs": [],
   "source": [
    "X_train_scaled, X_test_scaled, y_train, y_test = split_and_scale_data(X_encoded, y, random_state=42)"
   ]
  },
  {
   "cell_type": "markdown",
   "metadata": {},
   "source": [
    "# Preliminary Support Vector Machine"
   ]
  },
  {
   "cell_type": "code",
   "execution_count": 26,
   "metadata": {},
   "outputs": [
    {
     "data": {
      "text/plain": [
       "Text(0.5, 1.0, 'Normalized confusion matrix')"
      ]
     },
     "execution_count": 26,
     "metadata": {},
     "output_type": "execute_result"
    },
    {
     "data": {
      "image/png": "[encoded data removed]",
      "text/plain": [
       "<Figure size 640x480 with 2 Axes>"
      ]
     },
     "metadata": {},
     "output_type": "display_data"
    },
    {
     "data": {
      "image/png": "[encoded data removed]",
      "text/plain": [
       "<Figure size 640x480 with 2 Axes>"
      ]
     },
     "metadata": {},
     "output_type": "display_data"
    }
   ],
   "source": [
    "clf_svm = SVC(random_state=42)\n",
    "clf_svm.fit(X_train_scaled, y_train)\n",
    "\n",
    "titles_options = [\n",
    "    (\"Confusion matrix, without normalization\", None),\n",
    "    (\"Normalized confusion matrix\", \"true\"),\n",
    "]\n",
    "for title, normalize in titles_options:\n",
    "    disp = ConfusionMatrixDisplay.from_estimator(\n",
    "        clf_svm,\n",
    "        X_test_scaled,\n",
    "        y_test,\n",
    "        display_labels=[\"Did not default\", \"Default\"],\n",
    "        cmap=plt.cm.YlOrBr,\n",
    "        normalize=normalize,\n",
    "    )\n",
    "disp.ax_.set_title(title)"
   ]
  },
  {
   "cell_type": "markdown",
   "metadata": {},
   "source": [
    "In the confusion matrix, we see that of the **243** people that did not default, **195 (80%)** were correctly classified. And of the **257** people that defaulted, **168 (65%)** were correctly classified. So he **Support Vector Machine** was not awesome. Let's try to improve predictions using **Cross Validation** to optimize the parameters."
   ]
  },
  {
   "cell_type": "markdown",
   "metadata": {},
   "source": [
    "# Building, Evaluating, Drawing and Interpreting the Final Support Vector Machine"
   ]
  },
  {
   "cell_type": "markdown",
   "metadata": {},
   "source": [
    "# Optimize Parameters with Cross Validation and GridSearchCV()\n",
    "\n",
    "Let's try to find the best value for **gamma**, and, if we can, the regularization parameter **C**.\n",
    "\n",
    "We will use `GridSearchCV()` to optimize these two parameters."
   ]
  },
  {
   "cell_type": "code",
   "execution_count": 27,
   "metadata": {},
   "outputs": [],
   "source": [
    "def train_model(X, y):\n",
    "    \"\"\"\n",
    "    Train the machine learning model using cross-validation and grid search.\n",
    "\n",
    "    Parameters:\n",
    "    X (DataFrame): Features (input variables) for training.\n",
    "    y (Series): Target variable for training.\n",
    "\n",
    "    Returns:\n",
    "    XGBoostClassifier: The best-trained XGBoost model found by grid search.\n",
    "    \"\"\"\n",
    "    # Define the machine learning model\n",
    "    model = SVC(random_state=42)\n",
    "\n",
    "    # Define hyperparameters for grid search\n",
    "    param_grid =  {'C': [0.5, 1, 10, 100],\n",
    "   'gamma': ['scale', 1, 0.1, 0.01, 0.001, 0.0001], \n",
    "   'kernel': ['rbf'],\n",
    "    }\n",
    "\n",
    "    # Perform grid search with cross-validation\n",
    "    grid_search = GridSearchCV(estimator=model, \n",
    "                               param_grid=param_grid,\n",
    "                                 scoring='accuracy',\n",
    "                                 cv = 5,\n",
    "                                 verbose=2)\n",
    "\n",
    "    grid_search.fit(X, y)\n",
    "\n",
    "    # Print the best hyperparameters\n",
    "    print(\"Best Hyperparameters:\", grid_search.best_params_)\n",
    "    \n",
    "\n",
    "    return grid_search.best_estimator_"
   ]
  },
  {
   "cell_type": "code",
   "execution_count": 28,
   "metadata": {},
   "outputs": [
    {
     "name": "stdout",
     "output_type": "stream",
     "text": [
      "Fitting 5 folds for each of 24 candidates, totalling 120 fits\n",
      "[CV] END .....................C=0.5, gamma=scale, kernel=rbf; total time=   0.2s\n",
      "[CV] END .....................C=0.5, gamma=scale, kernel=rbf; total time=   0.2s\n",
      "[CV] END .....................C=0.5, gamma=scale, kernel=rbf; total time=   0.2s\n",
      "[CV] END .....................C=0.5, gamma=scale, kernel=rbf; total time=   0.2s\n",
      "[CV] END .....................C=0.5, gamma=scale, kernel=rbf; total time=   0.2s\n",
      "[CV] END .........................C=0.5, gamma=1, kernel=rbf; total time=   0.3s\n",
      "[CV] END .........................C=0.5, gamma=1, kernel=rbf; total time=   0.3s\n",
      "[CV] END .........................C=0.5, gamma=1, kernel=rbf; total time=   0.2s\n",
      "[CV] END .........................C=0.5, gamma=1, kernel=rbf; total time=   0.2s\n",
      "[CV] END .........................C=0.5, gamma=1, kernel=rbf; total time=   0.2s\n",
      "[CV] END .......................C=0.5, gamma=0.1, kernel=rbf; total time=   0.2s\n",
      "[CV] END .......................C=0.5, gamma=0.1, kernel=rbf; total time=   0.2s\n",
      "[CV] END .......................C=0.5, gamma=0.1, kernel=rbf; total time=   0.2s\n",
      "[CV] END .......................C=0.5, gamma=0.1, kernel=rbf; total time=   0.2s\n",
      "[CV] END .......................C=0.5, gamma=0.1, kernel=rbf; total time=   0.2s\n",
      "[CV] END ......................C=0.5, gamma=0.01, kernel=rbf; total time=   0.2s\n",
      "[CV] END ......................C=0.5, gamma=0.01, kernel=rbf; total time=   0.2s\n",
      "[CV] END ......................C=0.5, gamma=0.01, kernel=rbf; total time=   0.2s\n",
      "[CV] END ......................C=0.5, gamma=0.01, kernel=rbf; total time=   0.2s\n",
      "[CV] END ......................C=0.5, gamma=0.01, kernel=rbf; total time=   0.2s\n",
      "[CV] END .....................C=0.5, gamma=0.001, kernel=rbf; total time=   0.2s\n",
      "[CV] END .....................C=0.5, gamma=0.001, kernel=rbf; total time=   0.2s\n",
      "[CV] END .....................C=0.5, gamma=0.001, kernel=rbf; total time=   0.2s\n",
      "[CV] END .....................C=0.5, gamma=0.001, kernel=rbf; total time=   0.2s\n",
      "[CV] END .....................C=0.5, gamma=0.001, kernel=rbf; total time=   0.2s\n",
      "[CV] END ....................C=0.5, gamma=0.0001, kernel=rbf; total time=   0.2s\n",
      "[CV] END ....................C=0.5, gamma=0.0001, kernel=rbf; total time=   0.2s\n",
      "[CV] END ....................C=0.5, gamma=0.0001, kernel=rbf; total time=   0.2s\n",
      "[CV] END ....................C=0.5, gamma=0.0001, kernel=rbf; total time=   0.2s\n",
      "[CV] END ....................C=0.5, gamma=0.0001, kernel=rbf; total time=   0.2s\n",
      "[CV] END .......................C=1, gamma=scale, kernel=rbf; total time=   0.2s\n",
      "[CV] END .......................C=1, gamma=scale, kernel=rbf; total time=   0.2s\n",
      "[CV] END .......................C=1, gamma=scale, kernel=rbf; total time=   0.2s\n",
      "[CV] END .......................C=1, gamma=scale, kernel=rbf; total time=   0.2s\n",
      "[CV] END .......................C=1, gamma=scale, kernel=rbf; total time=   0.2s\n",
      "[CV] END ...........................C=1, gamma=1, kernel=rbf; total time=   0.3s\n",
      "[CV] END ...........................C=1, gamma=1, kernel=rbf; total time=   0.3s\n",
      "[CV] END ...........................C=1, gamma=1, kernel=rbf; total time=   0.3s\n",
      "[CV] END ...........................C=1, gamma=1, kernel=rbf; total time=   0.3s\n",
      "[CV] END ...........................C=1, gamma=1, kernel=rbf; total time=   0.3s\n",
      "[CV] END .........................C=1, gamma=0.1, kernel=rbf; total time=   0.2s\n",
      "[CV] END .........................C=1, gamma=0.1, kernel=rbf; total time=   0.2s\n",
      "[CV] END .........................C=1, gamma=0.1, kernel=rbf; total time=   0.2s\n",
      "[CV] END .........................C=1, gamma=0.1, kernel=rbf; total time=   0.2s\n",
      "[CV] END .........................C=1, gamma=0.1, kernel=rbf; total time=   0.2s\n",
      "[CV] END ........................C=1, gamma=0.01, kernel=rbf; total time=   0.2s\n",
      "[CV] END ........................C=1, gamma=0.01, kernel=rbf; total time=   0.2s\n",
      "[CV] END ........................C=1, gamma=0.01, kernel=rbf; total time=   0.2s\n",
      "[CV] END ........................C=1, gamma=0.01, kernel=rbf; total time=   0.2s\n",
      "[CV] END ........................C=1, gamma=0.01, kernel=rbf; total time=   0.2s\n",
      "[CV] END .......................C=1, gamma=0.001, kernel=rbf; total time=   0.2s\n",
      "[CV] END .......................C=1, gamma=0.001, kernel=rbf; total time=   0.2s\n",
      "[CV] END .......................C=1, gamma=0.001, kernel=rbf; total time=   0.2s\n",
      "[CV] END .......................C=1, gamma=0.001, kernel=rbf; total time=   0.2s\n",
      "[CV] END .......................C=1, gamma=0.001, kernel=rbf; total time=   0.2s\n",
      "[CV] END ......................C=1, gamma=0.0001, kernel=rbf; total time=   0.2s\n",
      "[CV] END ......................C=1, gamma=0.0001, kernel=rbf; total time=   0.2s\n",
      "[CV] END ......................C=1, gamma=0.0001, kernel=rbf; total time=   0.2s\n",
      "[CV] END ......................C=1, gamma=0.0001, kernel=rbf; total time=   0.2s\n",
      "[CV] END ......................C=1, gamma=0.0001, kernel=rbf; total time=   0.2s\n",
      "[CV] END ......................C=10, gamma=scale, kernel=rbf; total time=   0.2s\n",
      "[CV] END ......................C=10, gamma=scale, kernel=rbf; total time=   0.2s\n",
      "[CV] END ......................C=10, gamma=scale, kernel=rbf; total time=   0.2s\n",
      "[CV] END ......................C=10, gamma=scale, kernel=rbf; total time=   0.2s\n",
      "[CV] END ......................C=10, gamma=scale, kernel=rbf; total time=   0.2s\n",
      "[CV] END ..........................C=10, gamma=1, kernel=rbf; total time=   0.3s\n",
      "[CV] END ..........................C=10, gamma=1, kernel=rbf; total time=   0.3s\n",
      "[CV] END ..........................C=10, gamma=1, kernel=rbf; total time=   0.3s\n",
      "[CV] END ..........................C=10, gamma=1, kernel=rbf; total time=   0.3s\n",
      "[CV] END ..........................C=10, gamma=1, kernel=rbf; total time=   0.3s\n",
      "[CV] END ........................C=10, gamma=0.1, kernel=rbf; total time=   0.2s\n",
      "[CV] END ........................C=10, gamma=0.1, kernel=rbf; total time=   0.2s\n",
      "[CV] END ........................C=10, gamma=0.1, kernel=rbf; total time=   0.2s\n",
      "[CV] END ........................C=10, gamma=0.1, kernel=rbf; total time=   0.2s\n",
      "[CV] END ........................C=10, gamma=0.1, kernel=rbf; total time=   0.2s\n",
      "[CV] END .......................C=10, gamma=0.01, kernel=rbf; total time=   0.2s\n",
      "[CV] END .......................C=10, gamma=0.01, kernel=rbf; total time=   0.2s\n",
      "[CV] END .......................C=10, gamma=0.01, kernel=rbf; total time=   0.2s\n",
      "[CV] END .......................C=10, gamma=0.01, kernel=rbf; total time=   0.2s\n",
      "[CV] END .......................C=10, gamma=0.01, kernel=rbf; total time=   0.2s\n",
      "[CV] END ......................C=10, gamma=0.001, kernel=rbf; total time=   0.2s\n",
      "[CV] END ......................C=10, gamma=0.001, kernel=rbf; total time=   0.2s\n",
      "[CV] END ......................C=10, gamma=0.001, kernel=rbf; total time=   0.2s\n",
      "[CV] END ......................C=10, gamma=0.001, kernel=rbf; total time=   0.2s\n",
      "[CV] END ......................C=10, gamma=0.001, kernel=rbf; total time=   0.2s\n",
      "[CV] END .....................C=10, gamma=0.0001, kernel=rbf; total time=   0.2s\n",
      "[CV] END .....................C=10, gamma=0.0001, kernel=rbf; total time=   0.2s\n",
      "[CV] END .....................C=10, gamma=0.0001, kernel=rbf; total time=   0.2s\n",
      "[CV] END .....................C=10, gamma=0.0001, kernel=rbf; total time=   0.2s\n",
      "[CV] END .....................C=10, gamma=0.0001, kernel=rbf; total time=   0.2s\n",
      "[CV] END .....................C=100, gamma=scale, kernel=rbf; total time=   0.3s\n",
      "[CV] END .....................C=100, gamma=scale, kernel=rbf; total time=   0.2s\n",
      "[CV] END .....................C=100, gamma=scale, kernel=rbf; total time=   0.2s\n",
      "[CV] END .....................C=100, gamma=scale, kernel=rbf; total time=   0.2s\n",
      "[CV] END .....................C=100, gamma=scale, kernel=rbf; total time=   0.3s\n",
      "[CV] END .........................C=100, gamma=1, kernel=rbf; total time=   0.3s\n",
      "[CV] END .........................C=100, gamma=1, kernel=rbf; total time=   0.3s\n",
      "[CV] END .........................C=100, gamma=1, kernel=rbf; total time=   0.3s\n",
      "[CV] END .........................C=100, gamma=1, kernel=rbf; total time=   0.3s\n",
      "[CV] END .........................C=100, gamma=1, kernel=rbf; total time=   0.3s\n",
      "[CV] END .......................C=100, gamma=0.1, kernel=rbf; total time=   0.3s\n"
     ]
    },
    {
     "name": "stdout",
     "output_type": "stream",
     "text": [
      "[CV] END .......................C=100, gamma=0.1, kernel=rbf; total time=   0.3s\n",
      "[CV] END .......................C=100, gamma=0.1, kernel=rbf; total time=   0.3s\n",
      "[CV] END .......................C=100, gamma=0.1, kernel=rbf; total time=   0.3s\n",
      "[CV] END .......................C=100, gamma=0.1, kernel=rbf; total time=   0.2s\n",
      "[CV] END ......................C=100, gamma=0.01, kernel=rbf; total time=   0.3s\n",
      "[CV] END ......................C=100, gamma=0.01, kernel=rbf; total time=   0.2s\n",
      "[CV] END ......................C=100, gamma=0.01, kernel=rbf; total time=   0.2s\n",
      "[CV] END ......................C=100, gamma=0.01, kernel=rbf; total time=   0.2s\n",
      "[CV] END ......................C=100, gamma=0.01, kernel=rbf; total time=   0.3s\n",
      "[CV] END .....................C=100, gamma=0.001, kernel=rbf; total time=   0.2s\n",
      "[CV] END .....................C=100, gamma=0.001, kernel=rbf; total time=   0.2s\n",
      "[CV] END .....................C=100, gamma=0.001, kernel=rbf; total time=   0.2s\n",
      "[CV] END .....................C=100, gamma=0.001, kernel=rbf; total time=   0.2s\n",
      "[CV] END .....................C=100, gamma=0.001, kernel=rbf; total time=   0.2s\n",
      "[CV] END ....................C=100, gamma=0.0001, kernel=rbf; total time=   0.2s\n",
      "[CV] END ....................C=100, gamma=0.0001, kernel=rbf; total time=   0.2s\n",
      "[CV] END ....................C=100, gamma=0.0001, kernel=rbf; total time=   0.2s\n",
      "[CV] END ....................C=100, gamma=0.0001, kernel=rbf; total time=   0.2s\n",
      "[CV] END ....................C=100, gamma=0.0001, kernel=rbf; total time=   0.2s\n",
      "Best Hyperparameters: {'C': 100, 'gamma': 0.001, 'kernel': 'rbf'}\n"
     ]
    }
   ],
   "source": [
    "hist = train_model(X_train_scaled, y_train)"
   ]
  },
  {
   "cell_type": "markdown",
   "metadata": {},
   "source": [
    "Corresponding to the Cross-Validation results,  `C=100`, `gamma=0.001` was the best parameters."
   ]
  },
  {
   "cell_type": "code",
   "execution_count": 29,
   "metadata": {},
   "outputs": [
    {
     "data": {
      "text/plain": [
       "Text(0.5, 1.0, 'Normalized confusion matrix')"
      ]
     },
     "execution_count": 29,
     "metadata": {},
     "output_type": "execute_result"
    },
    {
     "data": {
      "image/png": "[encoded data removed]",
      "text/plain": [
       "<Figure size 640x480 with 2 Axes>"
      ]
     },
     "metadata": {},
     "output_type": "display_data"
    },
    {
     "data": {
      "image/png": "[encoded data removed]",
      "text/plain": [
       "<Figure size 640x480 with 2 Axes>"
      ]
     },
     "metadata": {},
     "output_type": "display_data"
    }
   ],
   "source": [
    "titles_options = [\n",
    "    (\"Confusion matrix, without normalization\", None),\n",
    "    (\"Normalized confusion matrix\", \"true\"),\n",
    "]\n",
    "for title, normalize in titles_options:\n",
    "    disp = ConfusionMatrixDisplay.from_estimator(\n",
    "        hist,\n",
    "        X_test_scaled,\n",
    "        y_test,\n",
    "        display_labels=[\"Did not leave\", \"Left\"],\n",
    "        cmap=plt.cm.YlOrBr,\n",
    "        normalize=normalize,\n",
    "    )\n",
    "disp.ax_.set_title(title)"
   ]
  },
  {
   "cell_type": "markdown",
   "metadata": {},
   "source": [
    "And the results from the *optimized* **Support Vector Machine** are just a little bit better than before. **2** more people were *correctly* classified as defauting.\n",
    "\n",
    "**To conclude** : The **SVM** was pretty good straight out of the box without much optimization. This makes **SVMs** a great and quick method for relatively small datasets."
   ]
  },
  {
   "cell_type": "markdown",
   "metadata": {},
   "source": [
    "#### Finally, we save our model in the `models` section of the Git repository."
   ]
  },
  {
   "cell_type": "code",
   "execution_count": 30,
   "metadata": {},
   "outputs": [],
   "source": [
    "model_path = '/Users/eudes/Documents/Portfolio/SVM-default-credit-cards/models/hist.pkl'\n",
    "\n",
    "# Save the SVM model to the file using pickle\n",
    "with open(model_path, 'wb') as model_file:\n",
    "    pickle.dump(hist, model_file)"
   ]
  },
  {
   "cell_type": "markdown",
   "metadata": {},
   "source": [
    "### Extra : PCA shape"
   ]
  },
  {
   "cell_type": "code",
   "execution_count": 31,
   "metadata": {},
   "outputs": [
    {
     "data": {
      "image/png": "[encoded data removed]",
      "text/plain": [
       "<Figure size 640x480 with 1 Axes>"
      ]
     },
     "metadata": {},
     "output_type": "display_data"
    }
   ],
   "source": [
    "pca = PCA()\n",
    "X_train_pca = pca.fit_transform(X_train_scaled)\n",
    "\n",
    "per_var = np.round(pca.explained_variance_ratio_* 100, decimals=1)\n",
    "labels = [str(x) for x in range(1, len(per_var)+1)]\n",
    " \n",
    "plt.bar(x=range(1,len(per_var)+1), height=per_var)\n",
    "plt.tick_params(\n",
    "    axis='x',          \n",
    "    which='both',     \n",
    "    bottom=False,     \n",
    "    top=False,        \n",
    "    labelbottom=False)\n",
    "plt.ylabel('Percentage of Explained Variance')\n",
    "plt.xlabel('Principal Components')\n",
    "plt.title('Scree Plot')\n",
    "plt.show()"
   ]
  },
  {
   "cell_type": "markdown",
   "metadata": {},
   "source": [
    "The scree plot shows that the first principal component accounts for a relatively large amount of variation in the raw data, so it will be a good candidate for the x-axis in the 2-dimensional graph. "
   ]
  }
 ],
 "metadata": {
  "kernelspec": {
   "display_name": "Python 3 (ipykernel)",
   "language": "python",
   "name": "python3"
  },
  "language_info": {
   "codemirror_mode": {
    "name": "ipython",
    "version": 3
   },
   "file_extension": ".py",
   "mimetype": "text/x-python",
   "name": "python",
   "nbconvert_exporter": "python",
   "pygments_lexer": "ipython3",
   "version": "3.11.4"
  }
 },
 "nbformat": 4,
 "nbformat_minor": 4
}
